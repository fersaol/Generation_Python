{
 "cells": [
  {
   "cell_type": "code",
   "execution_count": 89,
   "metadata": {},
   "outputs": [],
   "source": [
    "total_bill = [{'product': ['veg salad',\"otro\"], 'price': [2.8,5], 'quantity': [2,3]}, \n",
    "                { 'product': ['water',\"otro\"], 'price': [1.5,4], 'quantity': [2,4]}, \n",
    "                {'product': ['Sherlock Homes',\"otro\"], 'price': [9.99,4], 'quantity': [1,3]}]\n",
    "\n",
    "def bill(total_bill):\n",
    "\n",
    "    order = [\"food\",\"drinks\",\"books\"]\n",
    "    to_pay = []\n",
    "\n",
    "    print(\"=\"*40)\n",
    "    print(\" \"*10+\"PYTHON RANGERS CAFE\")\n",
    "    print(\"=\"*40)\n",
    "\n",
    "    for i in range(len(order)):\n",
    "        print(order[i])\n",
    "        dic = total_bill[i]\n",
    "        for k in range(len(dic[\"product\"])):\n",
    "            print(f\"\\t- {dic[\"product\"][k]}:{dic[\"quantity\"][k]}\")\n",
    "        prices = total_bill[i][\"price\"]\n",
    "        quantities = total_bill[i][\"quantity\"]\n",
    "        money = sum([prices[i]*quantities[i]for i in range(len(prices))])\n",
    "        to_pay.append(money)\n",
    "        print(f\"\\t\\tTOTAL FOR {order[i]}:{round(money,2)} €\")\n",
    "    print(\"-\"*40)\n",
    "    print(f\"{' '*10} TOTAL COST {sum(to_pay)} €\")\n",
    "    print(\"=\"*40)\n",
    "    print(\" \"*15 + \"Than you very much! \"+ '\\U0001F44B')\n"
   ]
  },
  {
   "cell_type": "code",
   "execution_count": 90,
   "metadata": {},
   "outputs": [
    {
     "name": "stdout",
     "output_type": "stream",
     "text": [
      "========================================\n",
      "          PYTHON RANGERS CAFE\n",
      "========================================\n",
      "food\n",
      "\t- veg salad:2\n",
      "\t- otro:3\n",
      "\t\tTOTAL FOR food:20.6 €\n",
      "drinks\n",
      "\t- water:2\n",
      "\t- otro:4\n",
      "\t\tTOTAL FOR drinks:19.0 €\n",
      "books\n",
      "\t- Sherlock Homes:1\n",
      "\t- otro:3\n",
      "\t\tTOTAL FOR books:21.99 €\n",
      "----------------------------------------\n",
      "           TOTAL COST 61.59 €\n",
      "========================================\n",
      "               Than you very much! 👋\n"
     ]
    }
   ],
   "source": [
    "bill(total_bill)"
   ]
  },
  {
   "cell_type": "code",
   "execution_count": null,
   "metadata": {},
   "outputs": [
    {
     "name": "stdout",
     "output_type": "stream",
     "text": [
      "========================================\n",
      "          PYTHON RANGERS CAFE\n",
      "========================================\n",
      "food:\n",
      "\t- snacks:3€\n",
      "\n",
      "\t- other:5€\n",
      "\n",
      "\t\tTOTAL AMOUNT 8€\n",
      "drinks:\n",
      "\t\tTOTAL AMOUNT 8€\n",
      "books:\n",
      "\t\tTOTAL AMOUNT 8€\n",
      "========================================\n",
      "               Than you very much! 👋\n"
     ]
    }
   ],
   "source": [
    "        for i,food in enumerate(bill):\n",
    "            print(f\"\\t- {food}:{food_amount[i]}€\\n\")\n",
    "        print(f\"\\t\\tTOTAL AMOUNT {sum(food_amount)}€\")\n"
   ]
  },
  {
   "cell_type": "code",
   "execution_count": null,
   "metadata": {},
   "outputs": [
    {
     "name": "stdout",
     "output_type": "stream",
     "text": [
      "1.5\n"
     ]
    }
   ],
   "source": [
    "from database import database\n",
    "db = database()\n",
    "\n",
    "\n",
    "def price_picker(db,product,*args) -> int | float:\n",
    "    \"\"\"\n",
    "    this is a function to troubleshoot a design issue with the database as we chose as keys numbers and the same key\n",
    "    for the different products.\n",
    "    --------------\n",
    "    - ARGS:\n",
    "        - db: (list) --> database, list of dictionaries\n",
    "        - product: (str) --> the name of the product\n",
    "        - *args (string) --> other information\n",
    "    - RETURN:\n",
    "        - int or float\n",
    "    \"\"\"\n",
    "    mask = []\n",
    "    index = []\n",
    "    # we  select the dictionary where we want to look for:\n",
    "    if product == \"drinks\":\n",
    "        # we select the product we want to get info of and make a mask list of boolean values\n",
    "        for i,val in db[2].items():\n",
    "            # we save the the booleans in the list mask to make the mas for the appropiate product given as args\n",
    "            mask.append((val[\"name\"] == args[0]) and (val[\"size\"] == args[1]))\n",
    "            # we save the position of each product in the dictionary so we can then associate the index with the boolean\n",
    "            index.append(i)\n",
    "        # we match each index with each True boolean data so we can pick the correct index\n",
    "        product_index = [i for i, m in zip(index, mask) if m][0]\n",
    "        # now that we now the index of the product we want we extract the price for it\n",
    "        price = db[2][product_index][\"price\"]\n",
    "    # the rest works the same:    \n",
    "    elif product == \"food\":\n",
    "        for i,val in db[3].items():\n",
    "            mask.append(val[\"name\"] == args[0])\n",
    "            index.append(i)\n",
    "    \n",
    "        product_index = [i for i, m in zip(index, mask) if m][0]\n",
    "        price = db[3][product_index][\"price\"]\n",
    "    elif product == \"books\":\n",
    "        for i,val in db[4].items():\n",
    "            mask.append(val[\"name\"] == args[0])\n",
    "            index.append(i)\n",
    "    \n",
    "        product_index = [i for i, m in zip(index, mask) if m][0]\n",
    "        price = db[4][product_index][\"price\"]\n",
    "\n",
    "    return price\n",
    "\n",
    "price = price_picker(db,\"drinks\",'water bottle',\"regular\")\n",
    "print(price)"
   ]
  },
  {
   "cell_type": "code",
   "execution_count": null,
   "metadata": {},
   "outputs": [
    {
     "data": {
      "text/plain": [
       "{1: {'name': 'coffee latte', 'size': 'small', 'price': 2.9, 'quantity': 100},\n",
       " 2: {'name': 'coffee latte', 'size': 'regular', 'price': 3.2, 'quantity': 100},\n",
       " 3: {'name': 'coffee latte', 'size': 'large', 'price': 3.4, 'quantity': 100},\n",
       " 4: {'name': 'tea', 'size': 'small', 'price': 2.8, 'quantity': 100},\n",
       " 5: {'name': 'tea', 'size': 'regular', 'price': 3.1, 'quantity': 100},\n",
       " 6: {'name': 'tea', 'size': 'large', 'price': 3.3, 'quantity': 100},\n",
       " 7: {'name': 'coke', 'size': 'regular', 'price': 1.6, 'quantity': 100},\n",
       " 8: {'name': 'coke', 'size': 'large', 'price': 2.1, 'quantity': 100},\n",
       " 9: {'name': 'fanta', 'size': 'regular', 'price': 1.5, 'quantity': 100},\n",
       " 10: {'name': 'fanta', 'size': 'large', 'price': 2.0, 'quantity': 100},\n",
       " 11: {'name': 'water bottle',\n",
       "  'size': 'regular',\n",
       "  'price': 1.5,\n",
       "  'quantity': 100}}"
      ]
     },
     "execution_count": 29,
     "metadata": {},
     "output_type": "execute_result"
    }
   ],
   "source": [
    "db[2]"
   ]
  }
 ],
 "metadata": {
  "kernelspec": {
   "display_name": "pythonToExcel312",
   "language": "python",
   "name": "python3"
  },
  "language_info": {
   "codemirror_mode": {
    "name": "ipython",
    "version": 3
   },
   "file_extension": ".py",
   "mimetype": "text/x-python",
   "name": "python",
   "nbconvert_exporter": "python",
   "pygments_lexer": "ipython3",
   "version": "3.12.0"
  }
 },
 "nbformat": 4,
 "nbformat_minor": 2
}
