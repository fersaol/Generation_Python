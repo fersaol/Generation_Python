{
 "cells": [
  {
   "cell_type": "markdown",
   "metadata": {},
   "source": [
    "Write a series of conditional tests. Print a statement describing each test and your prediction for the results of each test. Your code should look something like this (image in the document):\n",
    "- Look closely at your results, and make sure you understand why each line evaluates to True or False. \n",
    "- Create at least 10 tests. Have at least 5 tests evaluate to True and another 5 tests evaluate to False.\n"
   ]
  },
  {
   "cell_type": "code",
   "execution_count": 3,
   "metadata": {},
   "outputs": [
    {
     "name": "stdout",
     "output_type": "stream",
     "text": [
      "Is cat == noche, I predict False\n",
      "False\n",
      "Is cat == weasley, I predict True\n",
      "True\n"
     ]
    }
   ],
   "source": [
    "cat = \"weasley\"\n",
    "\n",
    "if cat:\n",
    "    print( \"Is cat == noche, I predict False\")\n",
    "    print(cat == \"noche\")\n",
    "if cat:\n",
    "    print(\"Is cat == weasley, I predict True\")\n",
    "    print(cat == \"weasley\")\n"
   ]
  },
  {
   "cell_type": "code",
   "execution_count": 21,
   "metadata": {},
   "outputs": [
    {
     "name": "stdout",
     "output_type": "stream",
     "text": [
      "the index:0 == number:0\n",
      "the index:1 == number:1\n",
      "the index:2 == number:2\n",
      "the index:3 == number:3\n",
      "the index:4 == number:4\n",
      "the index:5 == number:5\n"
     ]
    }
   ],
   "source": [
    "numbers = range(6)\n",
    "\n",
    "for index,number in enumerate(numbers):\n",
    "    if index == number:\n",
    "        print(f\"the index:{index} == number:{number}\")"
   ]
  },
  {
   "cell_type": "code",
   "execution_count": 20,
   "metadata": {},
   "outputs": [
    {
     "name": "stdout",
     "output_type": "stream",
     "text": [
      "the index:0 != number:6\n",
      "the index:1 != number:5\n",
      "the index:2 != number:4\n",
      "the index:4 != number:2\n",
      "the index:5 != number:1\n"
     ]
    }
   ],
   "source": [
    "numbers2 = range(6,0,-1)\n",
    "for index,number in enumerate(numbers2):\n",
    "    if index != number:\n",
    "        print(f\"the index:{index} != number:{number}\")"
   ]
  },
  {
   "cell_type": "markdown",
   "metadata": {},
   "source": [
    "Write an if-elif-else chain that determines a person’s stage of life. Set a value for the variable age, and then: \n",
    "\n",
    "- If the person is less than 2 years old, print a message that the person is a baby. \n",
    "- If the person is at least 2 years old but less than 4, print a message that the person is a toddler. \n",
    "- If the person is at least 4 years old but less than 13, print a message that the person is a kid. \n",
    "- If the person is at least 13 years old but less than 20, print a message that the person is a teenager. \n",
    "- If the person is at least 20 years old but less than 65, print a message that the person is an adult. \n",
    "- If the person is age 65 or older, print a message that the person is an elder.\n"
   ]
  },
  {
   "cell_type": "code",
   "execution_count": 22,
   "metadata": {},
   "outputs": [
    {
     "name": "stdout",
     "output_type": "stream",
     "text": [
      "you are an adult\n"
     ]
    }
   ],
   "source": [
    "age = 25\n",
    "\n",
    "if age < 2:\n",
    "    print(\"you are a baby\")\n",
    "elif age < 4:\n",
    "    print(\"you are a toddler\")\n",
    "elif age < 13:\n",
    "    print(\"you are a kid\")\n",
    "elif age < 20:\n",
    "    print(\"you are a teenager\")\n",
    "elif age < 65:\n",
    "    print(\"you are an adult\")\n",
    "else:\n",
    "    print(\"you are an elder\")"
   ]
  },
  {
   "cell_type": "markdown",
   "metadata": {},
   "source": [
    "Make a list of your favorite fruits, and then write a series of independent if statements that check for certain fruits in your list. \n",
    "- Make a list of your three favorite fruits and call it favorite_fruits. \n",
    "- Write five if statements. Each should check whether a certain kind of fruit is in your list. If the fruit is in your list, the if block should print a statement, such as You really like bananas!\n"
   ]
  },
  {
   "cell_type": "code",
   "execution_count": 23,
   "metadata": {},
   "outputs": [
    {
     "name": "stdout",
     "output_type": "stream",
     "text": [
      "this fruit is in the list\n",
      "this fruit is in the list\n",
      "this fruit is in the list\n"
     ]
    }
   ],
   "source": [
    "favorite_fruits = [\"banana\",\"oranges\",\"grapes\"]\n",
    "\n",
    "if \"banana\" in favorite_fruits:\n",
    "    print(\"this fruit is in the list\")\n",
    "if \"oranges\" in favorite_fruits:\n",
    "    print(\"this fruit is in the list\")\n",
    "if \"grapes\" in favorite_fruits:\n",
    "    print(\"this fruit is in the list\")\n",
    "if \"coconut\" in favorite_fruits:\n",
    "    print(\"this fruit is in the list\")\n",
    "if \"pineaple\" in favorite_fruits:\n",
    "    print(\"this fruit is in the list\")"
   ]
  },
  {
   "cell_type": "markdown",
   "metadata": {},
   "source": [
    "Make a list of five or more usernames, including the name 'admin'. Imagine you are writing code that will print a greeting to each user after they log in to a website. Loop through the list, and print a greeting to each user: \n",
    "- If the username is 'admin', print a special greeting, such as Hello admin, would you like to see a status report? \n",
    "- Otherwise, print a generic greeting, such as Hello Eric, thank you for logging in again\n"
   ]
  },
  {
   "cell_type": "code",
   "execution_count": 24,
   "metadata": {},
   "outputs": [
    {
     "name": "stdout",
     "output_type": "stream",
     "text": [
      "Hello admin, would you like to see a status report?\n",
      "Hi fer!, you are logged in, enjoy\n",
      "Hi car!, you are logged in, enjoy\n",
      "Hi dan!, you are logged in, enjoy\n",
      "Hi emi!, you are logged in, enjoy\n"
     ]
    }
   ],
   "source": [
    "users = [\"admin\",\"fer\",\"car\",\"dan\",\"emi\"]\n",
    "\n",
    "for user in users:\n",
    "    if user == \"admin\":\n",
    "        print(f\"Hello {user}, would you like to see a status report?\")\n",
    "    else:\n",
    "        print(f\"Hi {user}!, you are logged in, enjoy\")"
   ]
  },
  {
   "cell_type": "markdown",
   "metadata": {},
   "source": [
    "Stretch and Challenge: add on an if test to make sure the list of users is not empty. \n",
    "\n",
    "- If the list is empty, print the message We need to find some users! \n",
    "- Remove all of the usernames from your list, and make sure the correct message is printed\n"
   ]
  },
  {
   "cell_type": "code",
   "execution_count": 28,
   "metadata": {},
   "outputs": [
    {
     "name": "stdout",
     "output_type": "stream",
     "text": [
      "[]\n",
      "we need to find some users\n"
     ]
    }
   ],
   "source": [
    "for _ in range(len(users)):\n",
    "    users.pop()\n",
    "\n",
    "print(users)\n",
    "print(\"we need to find some users\")\n"
   ]
  },
  {
   "cell_type": "markdown",
   "metadata": {},
   "source": [
    "Do the following to create a program that simulates how websites ensure that everyone has a unique username. \n",
    "\n",
    "- Make a list of five or more usernames called current_users. \n",
    "- Make another list of five usernames called new_users. Make sure one or two of the new usernames are also in the current_users list. \n",
    "- Loop through the new_users list to see if each new username has already been used. If it has, print a message that the person will need to enter a new username. If a username has not been used, print a message saying that the username is available. \n",
    "- Make sure your comparison is case insensitive. If 'John' has been used, 'JOHN' should not be accepted.\n"
   ]
  },
  {
   "cell_type": "code",
   "execution_count": 37,
   "metadata": {},
   "outputs": [
    {
     "name": "stdout",
     "output_type": "stream",
     "text": [
      "I am so sorry but you should use other user name, someone was faster than you\n",
      "I am so sorry but you should use other user name, someone was faster than you\n",
      "this username is availabe\n",
      "this username is availabe\n",
      "this username is availabe\n"
     ]
    }
   ],
   "source": [
    "current_users = [\"admin\",\"fer\",\"car\",\"dan\",\"emi\"]\n",
    "new_users = [user if user in [\"admin\",\"fer\"] else user + \"_02\" for user in current_users]\n",
    "\n",
    "for user in new_users:\n",
    "    if user.lower() in current_users:\n",
    "        print(\"I am so sorry but you should use other user name, someone was faster than you\")\n",
    "    else:\n",
    "        print(\"this username is availabe\")\n"
   ]
  },
  {
   "cell_type": "markdown",
   "metadata": {},
   "source": [
    "Ordinal numbers indicate their position in a list, such as 1st or 2nd. Most ordinal numbers end in th, except 1, 2, and 3. \n",
    "\n",
    "- Store the numbers 1 through 9 in a list. \n",
    "- Loop through the list. \n",
    "- Use an if-elif-else chain inside the loop to print the proper ordinal ending for each number. Your output should read \"1st 2nd 3rd 4th 5th 6th 7th 8th 9th\", and each result should be on a separate line.\n",
    "\n",
    "At this point, you’re a more capable programmer than you were when you started this course. Now that you have a better sense of how real-world situations are modeled in programs, you might be thinking of some problems you could solve with your own programs. Record below any new ideas you have about problems you might want to solve as your programming skills continue to improve. Consider games you might want to write, data sets you might want to explore, and web applications you’d like to create. One of your ideas could be a project you can work on once you are in the post-programme phase!\n"
   ]
  },
  {
   "cell_type": "code",
   "execution_count": 42,
   "metadata": {},
   "outputs": [
    {
     "name": "stdout",
     "output_type": "stream",
     "text": [
      "1st\n",
      "2nd\n",
      "3rd\n",
      "4th\n",
      "5th\n",
      "6th\n",
      "7th\n",
      "8th\n",
      "9th\n"
     ]
    }
   ],
   "source": [
    "numbers = list(range(1,10))\n",
    "numbers\n",
    "for num in numbers:\n",
    "    if num == 1:\n",
    "        print(f\"{num}st\")\n",
    "    if num == 2:\n",
    "        print(f\"{num}nd\")\n",
    "    if num == 3:\n",
    "        print(f\"{num}rd\")\n",
    "    if num not in numbers[:3] :\n",
    "        print(f\"{num}th\")"
   ]
  }
 ],
 "metadata": {
  "kernelspec": {
   "display_name": "pythonToExcel312",
   "language": "python",
   "name": "python3"
  },
  "language_info": {
   "codemirror_mode": {
    "name": "ipython",
    "version": 3
   },
   "file_extension": ".py",
   "mimetype": "text/x-python",
   "name": "python",
   "nbconvert_exporter": "python",
   "pygments_lexer": "ipython3",
   "version": "3.12.0"
  }
 },
 "nbformat": 4,
 "nbformat_minor": 2
}
