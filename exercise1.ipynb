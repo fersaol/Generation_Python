{
 "cells": [
  {
   "cell_type": "markdown",
   "metadata": {},
   "source": [
    "# Exercise 1: Strings\n",
    "1. Complete each exercise listed below. For each, add a comment saying what that piece of code does. \n",
    "\n",
    "2.  a message in a variable, then print that message. \n",
    "\n",
    "3. Store a message in a variable, and print that message. Then change the value of your variable to a new message, and print the new message.\n",
    "\n",
    "4. Store a person’s name in a variable, and print a message to that person. \n",
    "\n",
    "5. Store a person’s name in a variable, and then print that person’s name in lowercase, uppercase, and titlecase.\n",
    "\n",
    "6. Write addition, subtraction, multiplication, and division operations that each result in the number 8. Be sure to enclose your operations in print statements to see the results.\n",
    "\n",
    "7. Store your favorite number in a variable. Then, using that variable, create a message that reveals your favorite number. Print that message.\n"
   ]
  },
  {
   "cell_type": "markdown",
   "metadata": {},
   "source": [
    "Store a message in a variable, then print that message"
   ]
  },
  {
   "cell_type": "code",
   "execution_count": 10,
   "metadata": {},
   "outputs": [
    {
     "name": "stdout",
     "output_type": "stream",
     "text": [
      "whats up man\n"
     ]
    }
   ],
   "source": [
    "message = \"whats up man\" # stores a variable\n",
    "print(message) # print the variable"
   ]
  },
  {
   "cell_type": "markdown",
   "metadata": {},
   "source": [
    "Store a message in a variable, and print that message. Then change the value of your variable to a new message, and print the new message."
   ]
  },
  {
   "cell_type": "code",
   "execution_count": 11,
   "metadata": {},
   "outputs": [
    {
     "name": "stdout",
     "output_type": "stream",
     "text": [
      "this is my message: hey my brother how are you\n",
      "this is my message: why are you changing your message?\n"
     ]
    }
   ],
   "source": [
    "message = \"hey my brother how are you\" # stores a variable with a string\n",
    "print(f\"this is my message: {message}\") # print the string using the f-string statement\n",
    "message = \"why are you changing your message?\" # stores another variable\n",
    "print(f\"this is my message: {message}\") # print the new variable"
   ]
  },
  {
   "cell_type": "markdown",
   "metadata": {},
   "source": [
    "Store a person’s name in a variable, and print a message to that person. "
   ]
  },
  {
   "cell_type": "code",
   "execution_count": 6,
   "metadata": {},
   "outputs": [
    {
     "name": "stdout",
     "output_type": "stream",
     "text": [
      "hey Fernando how are you?\n"
     ]
    }
   ],
   "source": [
    "name = \"Fernando\" # stores my name\n",
    "print(f\"hey {name} how are you?\") # print my name"
   ]
  },
  {
   "cell_type": "markdown",
   "metadata": {},
   "source": [
    "Store a person’s name in a variable, and then print that person’s name in lowercase, uppercase, and titlecase."
   ]
  },
  {
   "cell_type": "code",
   "execution_count": 12,
   "metadata": {},
   "outputs": [
    {
     "name": "stdout",
     "output_type": "stream",
     "text": [
      "this is my name in lowercase: fernando\n",
      "this is my name in uppercase: FERNANDO\n",
      "this is my name in titlecase: Fernando\n"
     ]
    }
   ],
   "source": [
    "name = \"Fernando\" # stores my name as a string\n",
    "print(f\"this is my name in lowercase: {name.lower()}\") # prints my name in lowercase\n",
    "print(f\"this is my name in uppercase: {name.upper()}\") # prints my name in uppercase\n",
    "print(f\"this is my name in titlecase: {name.title()}\") # prints my name capitalized"
   ]
  },
  {
   "cell_type": "markdown",
   "metadata": {},
   "source": [
    "Write addition, subtraction, multiplication, and division operations that each result in the number 8. Be sure to enclose your operations in print statements to see the results."
   ]
  },
  {
   "cell_type": "code",
   "execution_count": 20,
   "metadata": {},
   "outputs": [
    {
     "name": "stdout",
     "output_type": "stream",
     "text": [
      "the results are:\n",
      "         multiplication:8\n",
      "         division:8.0\n",
      "         addition:8\n",
      "         substratction:8\n"
     ]
    }
   ],
   "source": [
    "addition = 7 + 1 # performs an addition\n",
    "substraction = 9 - 1 # performs a substraction\n",
    "multiplication = 4*2 # performs a multiplication\n",
    "division = 16/2 # performs a division\n",
    "\n",
    "# print all the operations using different lines and f-string\n",
    "print(f\"the results are:\\n \\\n",
    "        multiplication:{multiplication}\\n \\\n",
    "        division:{division}\\n \\\n",
    "        addition:{addition}\\n \\\n",
    "        substratction:{substraction}\")"
   ]
  },
  {
   "cell_type": "markdown",
   "metadata": {},
   "source": [
    "Store your favorite number in a variable. Then, using that variable, create a message that reveals your favorite number. Print that message."
   ]
  },
  {
   "cell_type": "code",
   "execution_count": 9,
   "metadata": {},
   "outputs": [
    {
     "name": "stdout",
     "output_type": "stream",
     "text": [
      "my favourite number is 5\n"
     ]
    }
   ],
   "source": [
    "favoriteNumber = 5 # stores a number\n",
    "print(\"my favourite number is \" + str(favoriteNumber)) # prints the number formatted as string"
   ]
  },
  {
   "cell_type": "markdown",
   "metadata": {},
   "source": [
    "Use an f-string to print out a message with a variable. \n",
    "\n",
    "Use multiple variables in one string to print a message.\n",
    "\n",
    "Set three variables, one that says, “Good”, another that says, “Day”, and another that says your name. “Add” them together, with a space between each word, and store it into another variable. Then, print out that variable. \n"
   ]
  },
  {
   "cell_type": "code",
   "execution_count": 13,
   "metadata": {},
   "outputs": [
    {
     "name": "stdout",
     "output_type": "stream",
     "text": [
      "hy everyone,I am glad to be with all of you, let's start our course python programming\n"
     ]
    }
   ],
   "source": [
    "# stores different variables and print them all together\n",
    "message = \"hy everyone\"\n",
    "greeting = \"I am glad to be with all of you\"\n",
    "course = \"python programming\"\n",
    "print(f\"{message},{greeting}, let's start our course {course}\")"
   ]
  },
  {
   "cell_type": "code",
   "execution_count": 14,
   "metadata": {},
   "outputs": [
    {
     "name": "stdout",
     "output_type": "stream",
     "text": [
      "Good Day Fernando\n"
     ]
    }
   ],
   "source": [
    "# Combines all the variables\n",
    "good = \"Good\"\n",
    "day = \"Day\"\n",
    "name = \"Fernando\"\n",
    "chain = f\"{good} {day} {name}\"\n",
    "print(chain)"
   ]
  }
 ],
 "metadata": {
  "kernelspec": {
   "display_name": "pythonToExcel312",
   "language": "python",
   "name": "python3"
  },
  "language_info": {
   "codemirror_mode": {
    "name": "ipython",
    "version": 3
   },
   "file_extension": ".py",
   "mimetype": "text/x-python",
   "name": "python",
   "nbconvert_exporter": "python",
   "pygments_lexer": "ipython3",
   "version": "3.12.0"
  }
 },
 "nbformat": 4,
 "nbformat_minor": 2
}
