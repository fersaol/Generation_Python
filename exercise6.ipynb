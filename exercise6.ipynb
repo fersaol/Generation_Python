{
 "cells": [
  {
   "cell_type": "markdown",
   "metadata": {},
   "source": [
    "# Exercise 6: Dictionaries\n",
    "\n",
    "Use a dictionary to store information about a person you know. Store their first name, last name, age, and the city in which they live. You should have keys such as first_name, last_name, age, and city. Print each piece of information stored in your dictionary."
   ]
  },
  {
   "cell_type": "code",
   "execution_count": 11,
   "metadata": {},
   "outputs": [
    {
     "name": "stdout",
     "output_type": "stream",
     "text": [
      "my brother's name is Daniel\n",
      "my brother's last_name is Sánchez Olmo\n",
      "my brother's age is 27\n",
      "my brother's city is Almagro\n"
     ]
    }
   ],
   "source": [
    "Daniel = {\n",
    "    \"name\": \"Daniel\",\n",
    "    \"last_name\": \"Sánchez Olmo\",\n",
    "    \"age\":27,\n",
    "    \"city\": \"Almagro\"\n",
    "}\n",
    "\n",
    "for key,value in Daniel.items():\n",
    "    print (f\"my brother's {key} is {value}\")"
   ]
  },
  {
   "cell_type": "markdown",
   "metadata": {},
   "source": [
    "Use a dictionary to store people’s favorite numbers. Think of five names, and use them as keys in your dictionary. Think of a favorite number for each person, and store each as a value in your dictionary. Print each person’s name and their favorite number. For even more fun, poll a few friends and get some actual data for your program."
   ]
  },
  {
   "cell_type": "code",
   "execution_count": 12,
   "metadata": {},
   "outputs": [
    {
     "name": "stdout",
     "output_type": "stream",
     "text": [
      "the favorite number for Carlos is 15\n",
      "the favorite number for Daniel is 19\n",
      "the favorite number for Emilia is 21\n",
      "the favorite number for Fernando is 5\n",
      "the favorite number for Carina is 9\n"
     ]
    }
   ],
   "source": [
    "fav_numbers = {\n",
    "    \"Carlos\":15,\n",
    "    \"Daniel\":19,\n",
    "    \"Emilia\":21,\n",
    "    \"Fernando\":5,\n",
    "    \"Carina\":9\n",
    "}\n",
    "\n",
    "for key,value in fav_numbers.items():\n",
    "    print (f\"the favorite number for {key} is {value}\")"
   ]
  },
  {
   "cell_type": "markdown",
   "metadata": {},
   "source": [
    "Make a dictionary containing three major rivers and the country each river runs through. One key-value pair might be 'nile': 'egypt'. \n",
    "- Use a loop to print a sentence about each river, such as The Nile runs through Egypt. \n",
    "- Use a loop to print the name of each river included in the dictionary. \n",
    "- Use a loop to print the name of each country included in the dictionary"
   ]
  },
  {
   "cell_type": "code",
   "execution_count": 13,
   "metadata": {},
   "outputs": [
    {
     "name": "stdout",
     "output_type": "stream",
     "text": [
      "the river Tajo runs through Spain\n",
      "the river Liffey runs through Ireland\n",
      "the river Tamesis runs through UK\n"
     ]
    }
   ],
   "source": [
    "rivers = {\n",
    "    \"Tajo\":\"Spain\",\n",
    "    \"Liffey\":\"Ireland\",\n",
    "    \"Tamesis\":\"UK\"\n",
    "}\n",
    "\n",
    "for river,country in rivers.items():\n",
    "    print(f\"the river {river} runs through {country}\")"
   ]
  },
  {
   "cell_type": "code",
   "execution_count": 14,
   "metadata": {},
   "outputs": [
    {
     "name": "stdout",
     "output_type": "stream",
     "text": [
      "the keys for the rivers dictionary are:\n",
      "** Tajo\n",
      "** Liffey\n",
      "** Tamesis\n"
     ]
    }
   ],
   "source": [
    "print(\"the keys for the rivers dictionary are:\")\n",
    "for river in rivers.keys():\n",
    "    print(f\"** {river}\")"
   ]
  },
  {
   "cell_type": "code",
   "execution_count": 15,
   "metadata": {},
   "outputs": [
    {
     "name": "stdout",
     "output_type": "stream",
     "text": [
      "the values for the rivers dictionary are:\n",
      "** Spain\n",
      "** Ireland\n",
      "** UK\n"
     ]
    }
   ],
   "source": [
    "print(\"the values for the rivers dictionary are:\")\n",
    "for country in rivers.values():\n",
    "    print(f\"** {country}\")"
   ]
  },
  {
   "cell_type": "markdown",
   "metadata": {},
   "source": [
    "Make several dictionaries, where the name of each dictionary is the name of a pet. In each dictionary, include the kind of animal and the owner’s name. Store these dictionaries in a list called pets. Next, loop through your list and as you do print everything you know about each pet."
   ]
  },
  {
   "cell_type": "code",
   "execution_count": 16,
   "metadata": {},
   "outputs": [
    {
     "name": "stdout",
     "output_type": "stream",
     "text": [
      "Fer has a bird pet\n",
      "Carlos has a dog pet\n",
      "Dani has a cat pet\n"
     ]
    }
   ],
   "source": [
    "rock = {\"type\":\"bird\",\"owner\":\"Fer\"}\n",
    "stone = {\"type\":\"dog\",\"owner\":\"Carlos\"}\n",
    "sand = {\"type\":\"cat\",\"owner\":\"Dani\"}\n",
    "\n",
    "pets = [rock,stone,sand]\n",
    "\n",
    "for pet in pets:\n",
    "    print(f\"{pet[\"owner\"]} has a {pet[\"type\"]} pet\")"
   ]
  },
  {
   "cell_type": "code",
   "execution_count": 17,
   "metadata": {},
   "outputs": [
    {
     "name": "stdout",
     "output_type": "stream",
     "text": [
      "the information that we hold about your pet is: {'type': 'bird', 'owner': 'Fer'}\n",
      "the information that we hold about your pet is: {'type': 'dog', 'owner': 'Carlos'}\n",
      "the information that we hold about your pet is: {'type': 'cat', 'owner': 'Dani'}\n"
     ]
    }
   ],
   "source": [
    "for pet in pets:\n",
    "    print(f\"the information that we hold about your pet is: {pet}\")"
   ]
  },
  {
   "cell_type": "markdown",
   "metadata": {},
   "source": [
    "Make a dictionary called favorite_places. Think of three names to use as keys in the dictionary, and store one to three favorite places for each person. To make this exercise a bit more interesting, ask some friends to name a few of their favorite places. Loop through the dictionary, and print each person’s name and their favorite places."
   ]
  },
  {
   "cell_type": "code",
   "execution_count": 18,
   "metadata": {},
   "outputs": [
    {
     "name": "stdout",
     "output_type": "stream",
     "text": [
      "the favorite place for Carlos is Mexico\n",
      "the favorite place for Daniel is Spain\n",
      "the favorite place for Fernando is Ireland\n"
     ]
    }
   ],
   "source": [
    "favorite_places = {\"Carlos\":\"Mexico\",\"Daniel\":\"Spain\",\"Fernando\":\"Ireland\"}\n",
    "\n",
    "for name,place in favorite_places.items():\n",
    "    print(f\"the favorite place for {name} is {place}\")"
   ]
  },
  {
   "cell_type": "markdown",
   "metadata": {},
   "source": [
    "Make a dictionary called cities. Use the names of three cities as keys in your dictionary. Create a dictionary of information about each city and include the country that the city is in, its approximate population, and one fact about that city. The keys for each city’s dictionary should be something like country, population, and fact. Print the name of each city and all of the information you have stored about it."
   ]
  },
  {
   "cell_type": "code",
   "execution_count": 19,
   "metadata": {},
   "outputs": [
    {
     "name": "stdout",
     "output_type": "stream",
     "text": [
      "Dublin is the capital of Ireland its population is 3 and is so green\n",
      "Madrid is the capital of Spain its population is 4 and has a mixture of tones\n",
      "London is the capital of UK its population is 5 and they speak english\n"
     ]
    }
   ],
   "source": [
    "cities = {\n",
    "    \"Dublin\":{\n",
    "        \"country\":\"Ireland\",\n",
    "        \"population\":3,\n",
    "        \"fact\":\"is so green\"},\n",
    "        \n",
    "    \"Madrid\":{\n",
    "        \"country\":\"Spain\",\n",
    "        \"population\":4,\n",
    "        \"fact\":\"has a mixture of tones\"},\n",
    "\n",
    "    \"London\":{\n",
    "        \"country\":\"UK\",\n",
    "        \"population\":5,\n",
    "        \"fact\":\"they speak english\"}}\n",
    "\n",
    "for city in cities:\n",
    "    print(f\"{city} is the capital of {cities[city][\"country\"]} its population is {cities[city][\"population\"]} and {cities[city][\"fact\"]}\")"
   ]
  },
  {
   "cell_type": "markdown",
   "metadata": {},
   "source": [
    "Stretch and Challenge\n",
    "\n",
    "A Python dictionary can be used to model an actual dictionary. However, to avoid confusion, let’s call it a glossary. \n",
    "\n",
    "- Think of five programming words you’ve learned about in the previous chapters. Use these words as the keys in your glossary, and store their meanings as values. \n",
    "- Print each word and its meaning as neatly formatted output. You might print the word followed by a colon and then its meaning, or print the word on one line and then print its meaning indented on a second line. Use the newline character (\\n) to insert a blank line between each word-meaning pair in your output.\n",
    "\n",
    " > clean up the code from Exercise 6-3 (page 102) by replacing your series of print statements with a loop that runs through the dictionary’s keys and values. When you’re sure that your loop works, add five more Python terms to your glossary. When you run your program again, these new words and meanings should automatically be included in the output.\n",
    "\n",
    "We’re now working with examples that are complex enough that they can be extended in any number of ways. Use one of the example programs from this chapter, and extend it by adding new keys and values, changing the context of the program or improving the formatting of the output.\n"
   ]
  },
  {
   "cell_type": "code",
   "execution_count": 24,
   "metadata": {},
   "outputs": [
    {
     "name": "stdout",
     "output_type": "stream",
     "text": [
      "lists ---> mutable collection of different data types\n",
      "dictionaries ---> collection of key-value pairs\n",
      "tuples ---> inmutable collection of different data types\n",
      "strings ---> succesion of characters\n",
      "integers ---> not floating point numbers\n"
     ]
    }
   ],
   "source": [
    "glossary = {\n",
    "    \"lists\":\"mutable collection of different data types\",\n",
    "    \"dictionaries\":\"collection of key-value pairs\",\n",
    "    \"tuples\":\"inmutable collection of different data types\",\n",
    "    \"strings\":\"succesion of characters\",\n",
    "    \"integers\":\"not floating point numbers\"\n",
    "}\n",
    "\n",
    "for word in glossary:\n",
    "    print(f\"{word} ---> {glossary[word]}\")"
   ]
  },
  {
   "cell_type": "code",
   "execution_count": 47,
   "metadata": {},
   "outputs": [
    {
     "name": "stdout",
     "output_type": "stream",
     "text": [
      "            RIVER STATEMENTS\n",
      "========================================\n",
      "the river Tajo runs through Spain\n",
      "----------------------------------------\n",
      "the river Liffey runs through Ireland\n",
      "----------------------------------------\n",
      "the river Tamesis runs through UK\n",
      "----------------------------------------\n",
      "the river Ebro runs through Spain\n",
      "----------------------------------------\n",
      "the river Guadalquivir runs through Spain\n",
      "========================================\n",
      "                  😀Fin!\n"
     ]
    }
   ],
   "source": [
    "rivers = {\n",
    "    \"Tajo\":\"Spain\",\n",
    "    \"Liffey\":\"Ireland\",\n",
    "    \"Tamesis\":\"UK\"\n",
    "}\n",
    "\n",
    "new_rivers = [\"Ebro\",\"Guadalquivir\"]\n",
    "new_countries = [\"Spain\",\"Spain\"]\n",
    "\n",
    "print(\" \"*12 + \"RIVER STATEMENTS\")\n",
    "print(\"=\"*40)\n",
    "\n",
    "for index in range(len(new_countries)):\n",
    "    rivers.update({new_rivers[index]:new_countries[index]})\n",
    "\n",
    "for river,country in rivers.items():\n",
    "    print(f\"the river {river} runs through {country}\")\n",
    "\n",
    "    if river != list(rivers.keys())[len(rivers)-1]:\n",
    "        print(\"-\"*40)\n",
    "        \n",
    "print(\"=\"*40)\n",
    "print(\" \"*18 + \"\\U0001F600\" + \"Fin!\")\n"
   ]
  }
 ],
 "metadata": {
  "kernelspec": {
   "display_name": "pythonToExcel312",
   "language": "python",
   "name": "python3"
  },
  "language_info": {
   "codemirror_mode": {
    "name": "ipython",
    "version": 3
   },
   "file_extension": ".py",
   "mimetype": "text/x-python",
   "name": "python",
   "nbconvert_exporter": "python",
   "pygments_lexer": "ipython3",
   "version": "3.12.0"
  }
 },
 "nbformat": 4,
 "nbformat_minor": 2
}
