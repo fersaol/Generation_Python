{
 "cells": [
  {
   "cell_type": "markdown",
   "metadata": {},
   "source": [
    "Think of at least three kinds of your favorite pizza. Store these pizza names in a list, and then use a for loop to print the name of each pizza.\n"
   ]
  },
  {
   "cell_type": "code",
   "execution_count": 1,
   "metadata": {},
   "outputs": [
    {
     "name": "stdout",
     "output_type": "stream",
     "text": [
      "tuna\n",
      "serrano ham\n",
      "anchovies\n"
     ]
    }
   ],
   "source": [
    "myPizzas = [\"tuna\",\"serrano ham\",\"anchovies\"]\n",
    "\n",
    "for pizza in myPizzas:\n",
    "    print(pizza)"
   ]
  },
  {
   "cell_type": "markdown",
   "metadata": {},
   "source": [
    "- Modify your for loop to print a sentence using the name of the pizza instead of printing just the name of the pizza. For each pizza you should have one line of output containing a simple statement like I like pepperoni pizza. "
   ]
  },
  {
   "cell_type": "code",
   "execution_count": 4,
   "metadata": {},
   "outputs": [
    {
     "name": "stdout",
     "output_type": "stream",
     "text": [
      "I really like tuna pizza, yum!!\n",
      "I really like serrano ham pizza, yum!!\n",
      "I really like anchovies pizza, yum!!\n"
     ]
    }
   ],
   "source": [
    "for pizza in myPizzas:\n",
    "    print(f\"I really like {pizza} pizza, yum!!\")"
   ]
  },
  {
   "cell_type": "markdown",
   "metadata": {},
   "source": [
    "- Add a line at the end of your program, outside the for loop, that states how much you like pizza. The output should consist of three or more lines about the kinds of pizza you like and then an additional sentence, such as I really love pizza!"
   ]
  },
  {
   "cell_type": "code",
   "execution_count": 5,
   "metadata": {},
   "outputs": [
    {
     "name": "stdout",
     "output_type": "stream",
     "text": [
      "I really like tuna pizza, yum!!\n",
      "I really like serrano ham pizza, yum!!\n",
      "I really like anchovies pizza, yum!!\n",
      "I really love pizza!!!\n"
     ]
    }
   ],
   "source": [
    "for pizza in myPizzas:\n",
    "    print(f\"I really like {pizza} pizza, yum!!\")\n",
    "print(\"I really love pizza!!!\")"
   ]
  },
  {
   "cell_type": "markdown",
   "metadata": {},
   "source": [
    "Think of at least three different animals that have a common characteristic. Store the names of these animals in a list, and then use a for loop to print out the name of each animal."
   ]
  },
  {
   "cell_type": "code",
   "execution_count": 6,
   "metadata": {},
   "outputs": [
    {
     "name": "stdout",
     "output_type": "stream",
     "text": [
      "tiger\n",
      "lion\n",
      "wolf\n"
     ]
    }
   ],
   "source": [
    "animals = [\"tiger\",\"lion\",\"wolf\"]\n",
    "\n",
    "for animal in animals:\n",
    "    print(animal)"
   ]
  },
  {
   "cell_type": "markdown",
   "metadata": {},
   "source": [
    "• Modify your program to print a statement about each animal, such as A dog would make a great pet."
   ]
  },
  {
   "cell_type": "code",
   "execution_count": 7,
   "metadata": {},
   "outputs": [
    {
     "name": "stdout",
     "output_type": "stream",
     "text": [
      "A tiger is beatufil but can be dangerous too, so be careful\n",
      "A lion is beatufil but can be dangerous too, so be careful\n",
      "A wolf is beatufil but can be dangerous too, so be careful\n"
     ]
    }
   ],
   "source": [
    "animals = [\"tiger\",\"lion\",\"wolf\"]\n",
    "\n",
    "for animal in animals:\n",
    "    print(f\"A {animal} is beatufil but can be dangerous too, so be careful\")"
   ]
  },
  {
   "cell_type": "markdown",
   "metadata": {},
   "source": [
    "• Add a line at the end of your program stating what these animals have in common. You could print a sentence such as Any of these animals would make a great pet!"
   ]
  },
  {
   "cell_type": "code",
   "execution_count": 8,
   "metadata": {},
   "outputs": [
    {
     "name": "stdout",
     "output_type": "stream",
     "text": [
      "A tiger is beatufil but can be dangerous too, so be careful\n",
      "A lion is beatufil but can be dangerous too, so be careful\n",
      "A wolf is beatufil but can be dangerous too, so be careful\n",
      "Any of these animals were born wild so keep it that way\n"
     ]
    }
   ],
   "source": [
    "animals = [\"tiger\",\"lion\",\"wolf\"]\n",
    "\n",
    "for animal in animals:\n",
    "    print(f\"A {animal} is beatufil but can be dangerous too, so be careful\")\n",
    "\n",
    "print(\"Any of these animals were born wild so keep it that way\")"
   ]
  },
  {
   "cell_type": "markdown",
   "metadata": {},
   "source": [
    " Use a for loop to print the numbers from 1 to 20, inclusive."
   ]
  },
  {
   "cell_type": "code",
   "execution_count": 16,
   "metadata": {},
   "outputs": [
    {
     "name": "stdout",
     "output_type": "stream",
     "text": [
      "1,2,3,4,5,6,7,8,9,10,11,12,13,14,15,16,17,18,19,20,"
     ]
    }
   ],
   "source": [
    "for number in range(1,21):\n",
    "    print(number,end=\",\")"
   ]
  },
  {
   "cell_type": "markdown",
   "metadata": {},
   "source": [
    "Make a list of the numbers from one to one million, and then use min() and max() to make sure your list actually starts at one and ends at one million. Also, use the sum() function to see how quickly Python can add a million numbers."
   ]
  },
  {
   "cell_type": "code",
   "execution_count": 11,
   "metadata": {},
   "outputs": [
    {
     "name": "stdout",
     "output_type": "stream",
     "text": [
      "1\n",
      "1000000\n",
      "500000500000\n"
     ]
    }
   ],
   "source": [
    "numbers = list(range(1,1000001))\n",
    "print(min(numbers))\n",
    "print(max(numbers))\n",
    "print(sum(numbers))"
   ]
  },
  {
   "cell_type": "markdown",
   "metadata": {},
   "source": [
    "Make a list of the multiples of 3 from 3 to 30. Use a for loop to print the numbers in your list"
   ]
  },
  {
   "cell_type": "code",
   "execution_count": 15,
   "metadata": {},
   "outputs": [
    {
     "name": "stdout",
     "output_type": "stream",
     "text": [
      "3,6,9,12,15,18,21,24,27,30,33,36,39,42,45,48,51,54,57,60,63,66,69,72,75,78,81,84,87,90,"
     ]
    }
   ],
   "source": [
    "multiples3 = list(range(1,31))\n",
    "\n",
    "for multiple in multiples3:\n",
    "    print(multiple*3,end=\",\")"
   ]
  },
  {
   "cell_type": "markdown",
   "metadata": {},
   "source": [
    "Start with your program from question 1. Make a copy of the list of pizzas, and call it friend_pizzas. Then, do the following: "
   ]
  },
  {
   "cell_type": "code",
   "execution_count": 19,
   "metadata": {},
   "outputs": [],
   "source": [
    "friend_pizzas = myPizzas[:]"
   ]
  },
  {
   "cell_type": "markdown",
   "metadata": {},
   "source": [
    "- Add a new pizza to the original list. "
   ]
  },
  {
   "cell_type": "code",
   "execution_count": 20,
   "metadata": {},
   "outputs": [],
   "source": [
    "myPizzas.append(\"chicken\")"
   ]
  },
  {
   "cell_type": "markdown",
   "metadata": {},
   "source": [
    "- Add a different pizza to the list friend_pizzas. "
   ]
  },
  {
   "cell_type": "code",
   "execution_count": 21,
   "metadata": {},
   "outputs": [],
   "source": [
    "friend_pizzas.append(\"carbonara\")"
   ]
  },
  {
   "cell_type": "markdown",
   "metadata": {},
   "source": [
    "- Prove that you have two separate lists. Print the message, My favorite pizzas are:, and then use a for loop to print the first list. Print the message, My friend’s favorite pizzas are:, and then use a for loop to print the second list. Make sure each new pizza is stored in the appropriate list."
   ]
  },
  {
   "cell_type": "code",
   "execution_count": 22,
   "metadata": {},
   "outputs": [
    {
     "name": "stdout",
     "output_type": "stream",
     "text": [
      "my favorite pizzas are ['tuna', 'serrano ham', 'anchovies', 'chicken']\n",
      "my favorite pizzas are tuna\n",
      "my favorite pizzas are serrano ham\n",
      "my favorite pizzas are anchovies\n",
      "my favorite pizzas are chicken\n",
      "my friend's favorite pizzas are ['tuna', 'serrano ham', 'anchovies', 'carbonara']\n",
      "my favorite pizzas are tuna\n",
      "my favorite pizzas are serrano ham\n",
      "my favorite pizzas are anchovies\n",
      "my favorite pizzas are carbonara\n"
     ]
    }
   ],
   "source": [
    "print(f\"my favorite pizzas are {myPizzas}\")\n",
    "for pizza in myPizzas:\n",
    "    print(f\"my favorite pizzas are {pizza}\")\n",
    "\n",
    "print(f\"my friend's favorite pizzas are {friend_pizzas}\")\n",
    "for pizza in friend_pizzas:\n",
    "    print(f\"my favorite pizzas are {pizza}\")"
   ]
  },
  {
   "cell_type": "markdown",
   "metadata": {},
   "source": [
    "A buffet-style restaurant offers only five basic foods. Think of five simple foods, and store them in a tuple. "
   ]
  },
  {
   "cell_type": "code",
   "execution_count": 23,
   "metadata": {},
   "outputs": [],
   "source": [
    "menu = (\"tomatos\",\"peppers\",\"onions\",\"chickpeas\",\"tuna\")"
   ]
  },
  {
   "cell_type": "markdown",
   "metadata": {},
   "source": [
    "• Use a for loop to print each food the restaurant offers. "
   ]
  },
  {
   "cell_type": "code",
   "execution_count": 24,
   "metadata": {},
   "outputs": [
    {
     "name": "stdout",
     "output_type": "stream",
     "text": [
      "tomatos\n",
      "peppers\n",
      "onions\n",
      "chickpeas\n",
      "tuna\n"
     ]
    }
   ],
   "source": [
    "for food in menu:\n",
    "    print(food)"
   ]
  },
  {
   "cell_type": "markdown",
   "metadata": {},
   "source": [
    "• Try to modify one of the items, and make sure that Python rejects the change. "
   ]
  },
  {
   "cell_type": "code",
   "execution_count": 25,
   "metadata": {},
   "outputs": [
    {
     "ename": "TypeError",
     "evalue": "'tuple' object does not support item assignment",
     "output_type": "error",
     "traceback": [
      "\u001b[1;31m---------------------------------------------------------------------------\u001b[0m",
      "\u001b[1;31mTypeError\u001b[0m                                 Traceback (most recent call last)",
      "Cell \u001b[1;32mIn[25], line 1\u001b[0m\n\u001b[1;32m----> 1\u001b[0m \u001b[43mmenu\u001b[49m\u001b[43m[\u001b[49m\u001b[38;5;241;43m0\u001b[39;49m\u001b[43m]\u001b[49m \u001b[38;5;241m=\u001b[39m \u001b[38;5;124m\"\u001b[39m\u001b[38;5;124mpeas\u001b[39m\u001b[38;5;124m\"\u001b[39m\n",
      "\u001b[1;31mTypeError\u001b[0m: 'tuple' object does not support item assignment"
     ]
    }
   ],
   "source": [
    "menu[0] = \"peas\""
   ]
  },
  {
   "cell_type": "markdown",
   "metadata": {},
   "source": [
    "• The restaurant changes its menu, replacing two of the items with different foods. Add a block of code that rewrites the tuple, and then use a for loop to print each of the items on the revised menu"
   ]
  },
  {
   "cell_type": "code",
   "execution_count": 26,
   "metadata": {},
   "outputs": [
    {
     "name": "stdout",
     "output_type": "stream",
     "text": [
      "tomatos\n",
      "peppers\n",
      "onions\n",
      "beef\n",
      "salmon\n"
     ]
    }
   ],
   "source": [
    "menu = (\"tomatos\",\"peppers\",\"onions\",\"beef\",\"salmon\")\n",
    "for food in menu:\n",
    "    print(food)"
   ]
  }
 ],
 "metadata": {
  "kernelspec": {
   "display_name": "pythonToExcel312",
   "language": "python",
   "name": "python3"
  },
  "language_info": {
   "codemirror_mode": {
    "name": "ipython",
    "version": 3
   },
   "file_extension": ".py",
   "mimetype": "text/x-python",
   "name": "python",
   "nbconvert_exporter": "python",
   "pygments_lexer": "ipython3",
   "version": "3.12.0"
  }
 },
 "nbformat": 4,
 "nbformat_minor": 2
}
