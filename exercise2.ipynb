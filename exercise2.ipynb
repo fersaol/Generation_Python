{
 "cells": [
  {
   "cell_type": "markdown",
   "metadata": {},
   "source": [
    "\n",
    "Store the names of a few of your favorite music artists in a list called names. Print each name by accessing each element in the list, one at a time. \n",
    "\n"
   ]
  },
  {
   "cell_type": "code",
   "execution_count": 1,
   "metadata": {},
   "outputs": [
    {
     "name": "stdout",
     "output_type": "stream",
     "text": [
      "Dani Martín\n",
      "The Cranberries\n",
      "Hardwell\n",
      "Linking Park\n"
     ]
    }
   ],
   "source": [
    "names = [\"Dani Martín\",\"The Cranberries\",\"Hardwell\",\"Linking Park\"]\n",
    "print(names[0])\n",
    "print(names[1])\n",
    "print(names[2])\n",
    "print(names[3])"
   ]
  },
  {
   "cell_type": "markdown",
   "metadata": {},
   "source": [
    "Start with the “names” list you used in the first exercise, but instead of just printing each name, print a message to them. The text of each message should be the same, but each message should be personalized with the music artist’s name. "
   ]
  },
  {
   "cell_type": "code",
   "execution_count": 2,
   "metadata": {},
   "outputs": [
    {
     "name": "stdout",
     "output_type": "stream",
     "text": [
      "I really like your music, Dani Martín\n",
      "I really like your music, The Cranberries\n",
      "I really like your music, Hardwell\n",
      "I really like your music, Linking Park\n"
     ]
    }
   ],
   "source": [
    "message = \"I really like your music, \"\n",
    "print(f\"{message}{names[0]}\")\n",
    "print(f\"{message}{names[1]}\")\n",
    "print(f\"{message}{names[2]}\")\n",
    "print(f\"{message}{names[3]}\")"
   ]
  },
  {
   "cell_type": "markdown",
   "metadata": {},
   "source": [
    "Think of your favorite book or movie. Make a list that stores several examples. Use your list to print a statement about your favorite book or movie. For example, “My favorite book is Pride and Prejudice”. \n",
    "\n",
    "Stretch and Challenge: You can go one step further, and add an author or director name! Try printing a message to the author or director on what you liked about their book or movie!\n"
   ]
  },
  {
   "cell_type": "code",
   "execution_count": 8,
   "metadata": {},
   "outputs": [
    {
     "name": "stdout",
     "output_type": "stream",
     "text": [
      "some of my favourite movies are In Time ,Cranck or Transporter\n",
      "but the best of those is the movie In Time that although I don't know the director is Great!\n"
     ]
    }
   ],
   "source": [
    "movies = [\"In Time\",\"Cranck\",\"Transporter\"]\n",
    "print(f\"some of my favourite movies are {movies[0]} ,{movies[1]} or {movies[2]}\")\n",
    "\n",
    "message = \"Great!\"\n",
    "print(f\"but the best of those is the movie {movies[0]} that although I don't know the director is {message}\")"
   ]
  },
  {
   "cell_type": "markdown",
   "metadata": {},
   "source": [
    " If you could invite anyone, living or deceased, to dinner, who would you invite? Make a list that includes at least three people you’d like to invite to dinner. Then use your list to print a message to each person, inviting them to dinner. "
   ]
  },
  {
   "cell_type": "code",
   "execution_count": 24,
   "metadata": {},
   "outputs": [
    {
     "name": "stdout",
     "output_type": "stream",
     "text": [
      "hey Jesus Christ I would like to talk to you\n",
      "Are you availabe for some chatting, Ghandy?\n",
      "Hey JF Kennedy, what's up?\n"
     ]
    }
   ],
   "source": [
    "people = []\n",
    "people.append(\"Jesus Christ\")\n",
    "people.append(\"Ghandy\")\n",
    "people.append(\"JF Kennedy\")\n",
    "\n",
    "print(f\"hey {people[0]} I would like to talk to you\")\n",
    "print(f\"Are you availabe for some chatting, {people[1]}?\")\n",
    "print(f\"Hey {people[2]}, what's up?\")"
   ]
  },
  {
   "cell_type": "markdown",
   "metadata": {},
   "source": [
    "You just heard that one of your guests can’t make the dinner, so you need to send out a new set of invitations. You’ll have to think of someone else to invite. \n",
    "- Start with your program from question 4. Add a print statement at the end of your program stating the name of the guest who can’t make it.\n",
    "- Modify your list, replacing the name of the guest who can’t make it with the name of the new person you are inviting. \n",
    "- Print a second set of invitation messages, one for each person who is still in your list.\n"
   ]
  },
  {
   "cell_type": "code",
   "execution_count": 25,
   "metadata": {},
   "outputs": [
    {
     "name": "stdout",
     "output_type": "stream",
     "text": [
      "the guest that is not avaible to attend the meeting is JF Kennedy\n",
      "Great to have you in our meeting Jesus Christ It will start at five o'clock\n",
      "you are confirmed for the meeting starting at 5 o'clock Ghandy\n",
      "Awesome to have you in our meeting Cristobal Colón, we have a lot to speak about!\n"
     ]
    }
   ],
   "source": [
    "print(f\"the guest that is not avaible to attend the meeting is {people[2]}\")\n",
    "people[2] = \"Cristobal Colón\"\n",
    "\n",
    "print(f\"Great to have you in our meeting {people[0]} It will start at five o'clock\")\n",
    "print(f\"you are confirmed for the meeting starting at 5 o'clock {people[1]}\")\n",
    "print(f\"Awesome to have you in our meeting {people[2]}, we have a lot to speak about!\")"
   ]
  },
  {
   "cell_type": "markdown",
   "metadata": {},
   "source": [
    "You just found a bigger dinner table, so now more space is available. Think of three more guests to invite to dinner. \n",
    "- Start with your program from question 4 or question 5. Add a print statement to the end of your program informing people that you found a bigger dinner table. \n",
    "- Use insert() to add one new guest to the beginning of your list. \n",
    "- Use insert() to add one new guest to the middle of your list. \n",
    "- Use append() to add one new guest to the end of your list. \n",
    "- Print a new set of invitation messages, one for each person in your list.\n"
   ]
  },
  {
   "cell_type": "code",
   "execution_count": 26,
   "metadata": {},
   "outputs": [
    {
     "name": "stdout",
     "output_type": "stream",
     "text": [
      "Great to have you in our meeting Carlos It will start at five o'clock\n",
      "Great to have you in our meeting Dani It will start at five o'clock\n",
      "Great to have you in our meeting Isabel the catholic It will start at five o'clock\n",
      "Hey Jesus Christ I'm glad to announce that we will have new guests\n",
      "Hey Ghandy I'm glad to announce that we will have new guests\n",
      "Hey Cristobal Colón I'm glad to announce that we will have new guests\n"
     ]
    }
   ],
   "source": [
    "print(\"Hi guys!! we have a table bigger so more people will be attending\")\n",
    "people.insert(0,\"Carlos\")\n",
    "people.insert(2,\"Dani\")\n",
    "people.append(\"Isabel the catholic\")\n",
    "\n",
    "print(f\"Great to have you in our meeting {people[0]} It will start at five o'clock\")\n",
    "print(f\"Great to have you in our meeting {people[2]} It will start at five o'clock\")\n",
    "print(f\"Great to have you in our meeting {people[5]} It will start at five o'clock\")\n",
    "\n",
    "print(f\"Hey {people[1]} I'm glad to announce that we will have new guests\")\n",
    "print(f\"Hey {people[3]} I'm glad to announce that we will have new guests\")\n",
    "print(f\"Hey {people[4]} I'm glad to announce that we will have new guests\")\n"
   ]
  },
  {
   "cell_type": "markdown",
   "metadata": {},
   "source": [
    "You just found out that your new dinner table won’t arrive in time for the dinner, and you have space for only two guests. \n",
    "- Start with your program from question 6. Add a new line that prints a message saying that you can invite only two people for dinner. \n",
    "- Use pop() to remove guests from your list one at a time until only two names remain in your list. Each time you pop a name from your list, print a message to that person letting them know you’re sorry you can’t invite them to dinner. \n",
    "- Print a message to each of the two people still on your list, letting them know they’re still invited. \n",
    "- Use del to remove the last two names from your list, so you have an empty list. Print your list to make sure you actually have an empty list at the end of your program. \n"
   ]
  },
  {
   "cell_type": "code",
   "execution_count": 27,
   "metadata": {},
   "outputs": [
    {
     "name": "stdout",
     "output_type": "stream",
     "text": [
      "I am so sorry guests but finally we are not going to be able to meet all togheter, just two could come in\n",
      "I'm sorry Carlos but the meeting has been cancelled\n",
      "I'm sorry Dani but the meeting has been cancelled\n",
      "I'm sorry Cristobal Colón but the meeting has been cancelled\n",
      "I'm sorry Isabel the catholic but the meeting has been cancelled\n",
      "Jesus Christ I confirm you the meeting is taking place as expected for you\n",
      "Ghandy I confirm you the meeting is taking place as expected for you\n",
      "[]\n"
     ]
    }
   ],
   "source": [
    "print(\"I am so sorry guests but finally we are not going to be able to meet all togheter, just two could come in\")\n",
    "person1 = people.pop(0)\n",
    "print(f\"I'm sorry {person1} but the meeting has been cancelled\")\n",
    "person2 = people.pop(1)\n",
    "print(f\"I'm sorry {person2} but the meeting has been cancelled\")\n",
    "person3 = people.pop(2)\n",
    "print(f\"I'm sorry {person3} but the meeting has been cancelled\")\n",
    "person4 = people.pop(2)\n",
    "print(f\"I'm sorry {person4} but the meeting has been cancelled\")\n",
    "print(f\"{people[0]} I confirm you the meeting is taking place as expected for you\")\n",
    "print(f\"{people[1]} I confirm you the meeting is taking place as expected for you\")\n",
    "\n",
    "del people[1]\n",
    "del people[0]\n",
    "print(people)\n"
   ]
  },
  {
   "cell_type": "markdown",
   "metadata": {},
   "source": [
    " Working with your final program from number 7, use len() to print a message indicating the number of people you are inviting to dinner"
   ]
  },
  {
   "cell_type": "code",
   "execution_count": 28,
   "metadata": {},
   "outputs": [
    {
     "name": "stdout",
     "output_type": "stream",
     "text": [
      "finally I am inviting 2 people\n"
     ]
    }
   ],
   "source": [
    "finalPeople = [\"Ghandy\",\"Jesus Christ\"]\n",
    "print(f\"finally I am inviting {len(finalPeople)} people\")"
   ]
  },
  {
   "cell_type": "markdown",
   "metadata": {},
   "source": [
    "Think of at least five places in the world you’d like to visit. \n",
    "- Store the locations in a list. Make sure the list is not in alphabetical order. \n",
    "- Print your list in its original order. Don’t worry about printing the list neatly, just print it as a raw Python list. \n",
    "- Use sorted() to print your list in alphabetical order without modifying the actual list. \n",
    "- Show that your list is still in its original order by printing it. \n",
    "- Use sorted() to print your list in reverse alphabetical order without changing the order of the original list. \n",
    "- Show that your list is still in its original order by printing it again. \n",
    "- Use reverse() to change the order of your list. Print the list to show that its order has changed. \n",
    "- Use reverse() to change the order of your list again. Print the list to show it’s back to its original order. \n",
    "- Use sort() to change your list so it’s stored in alphabetical order. Print the list to show that its order has been changed. \n"
   ]
  },
  {
   "cell_type": "code",
   "execution_count": 29,
   "metadata": {},
   "outputs": [
    {
     "name": "stdout",
     "output_type": "stream",
     "text": [
      "['Florida', 'Norway', 'Australia', 'Perú', 'Antartica']\n",
      "['Antartica', 'Australia', 'Florida', 'Norway', 'Perú']\n",
      "['Florida', 'Norway', 'Australia', 'Perú', 'Antartica']\n",
      "['Perú', 'Norway', 'Florida', 'Australia', 'Antartica']\n",
      "['Florida', 'Norway', 'Australia', 'Perú', 'Antartica']\n",
      "['Antartica', 'Perú', 'Australia', 'Norway', 'Florida']\n",
      "['Florida', 'Norway', 'Australia', 'Perú', 'Antartica']\n",
      "['Antartica', 'Australia', 'Florida', 'Norway', 'Perú']\n"
     ]
    }
   ],
   "source": [
    "places = [\"Florida\",\"Norway\",\"Australia\",\"Perú\",\"Antartica\"]\n",
    "print(places)\n",
    "print(sorted(places))\n",
    "print(places)\n",
    "print(sorted(places,reverse=True))\n",
    "print(places)\n",
    "places.reverse()\n",
    "print(places)\n",
    "places.reverse()\n",
    "print(places)\n",
    "places.sort()\n",
    "print(places)"
   ]
  },
  {
   "cell_type": "markdown",
   "metadata": {},
   "source": [
    "# Stretch and Challenge\n",
    "\n",
    "Think of something you could store in a list. For example, you could make a list of mountains, rivers, countries, cities, languages, or anything else you’d like. Write a program that creates a list containing these items and then uses each function introduced in this chapter at least once."
   ]
  },
  {
   "cell_type": "code",
   "execution_count": 39,
   "metadata": {},
   "outputs": [
    {
     "name": "stdout",
     "output_type": "stream",
     "text": [
      "['Spanish', 'English', 'Italian', 'Portuguese']\n",
      "['Portuguese', 'Italian', 'English', 'Spanish']\n",
      "['Portuguese', 'Italian', 'English', 'Spanish']\n",
      "['English', 'Italian', 'Portuguese', 'Spanish']\n",
      "['Spanish', 'Portuguese', 'Italian', 'English']\n",
      "['English', 'Italian', 'Portuguese', 'Spanish']\n",
      "['German', 'English', 'Italian', 'Portuguese', 'Spanish', 'Chinese']\n",
      "['English', 'Italian', 'Portuguese', 'Spanish', 'Chinese']\n",
      "['English', 'Portuguese', 'Spanish', 'Chinese']\n",
      "the language popped has been Chinese and the new list is:['English', 'Portuguese', 'Spanish']\n"
     ]
    }
   ],
   "source": [
    "languages = [\"Spanish\",\"English\",\"Italian\",\"Portuguese\"]\n",
    "print(languages)\n",
    "languages.reverse()\n",
    "print(languages)\n",
    "print(languages)\n",
    "print(sorted(languages))\n",
    "print(sorted(languages,reverse=True))\n",
    "languages.sort()\n",
    "print(languages)\n",
    "languages.append(\"Chinese\")\n",
    "languages.insert(0,\"German\")\n",
    "print(languages)\n",
    "del languages[0]\n",
    "print(languages)\n",
    "languages.remove(\"Italian\")\n",
    "print(languages)\n",
    "popped = languages.pop(3)\n",
    "print(f\"the language popped has been {popped} and the new list is:{languages}\")\n",
    "\n"
   ]
  },
  {
   "cell_type": "markdown",
   "metadata": {},
   "source": [
    "Try to create a list, then pop the items out one by one into another list. Hint: You’ll need to start with an empty target list.\n"
   ]
  },
  {
   "cell_type": "code",
   "execution_count": 31,
   "metadata": {},
   "outputs": [
    {
     "name": "stdout",
     "output_type": "stream",
     "text": [
      "myList is: ['one', 'two', 'three', 'four'] and my newList is []\n",
      "myList is: [] and my newList is ['four', 'three', 'two', 'one']\n"
     ]
    }
   ],
   "source": [
    "poppingList = []\n",
    "myList = [\"one\",\"two\",\"three\",\"four\"]\n",
    "print(f\"myList is: {myList} and my newList is {poppingList}\")\n",
    "poppingList.append(myList.pop())\n",
    "poppingList.append(myList.pop())\n",
    "poppingList.append(myList.pop())\n",
    "poppingList.append(myList.pop())\n",
    "print(f\"myList is: {myList} and my newList is {poppingList}\")"
   ]
  }
 ],
 "metadata": {
  "kernelspec": {
   "display_name": "pythonToExcel312",
   "language": "python",
   "name": "python3"
  },
  "language_info": {
   "codemirror_mode": {
    "name": "ipython",
    "version": 3
   },
   "file_extension": ".py",
   "mimetype": "text/x-python",
   "name": "python",
   "nbconvert_exporter": "python",
   "pygments_lexer": "ipython3",
   "version": "3.12.0"
  }
 },
 "nbformat": 4,
 "nbformat_minor": 2
}
